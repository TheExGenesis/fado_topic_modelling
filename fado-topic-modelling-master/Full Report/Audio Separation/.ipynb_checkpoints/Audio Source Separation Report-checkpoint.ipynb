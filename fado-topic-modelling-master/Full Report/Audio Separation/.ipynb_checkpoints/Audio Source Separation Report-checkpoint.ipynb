{
 "cells": [
  {
   "cell_type": "markdown",
   "metadata": {},
   "source": [
    "Em 2018 ajudei a Mariem Hakobyan com a sua tese de licenciatura. O projecto envolveu separar a voz e a guitarra de faixas de música de fado. Usámos Non-Negative Matrix Factorization para separar as fontes. Inicialmente, esperavamos que a técnica de separação de fontes funcionasse bem o suficiente para ajudar no topic modelling, mas não foi o caso."
   ]
  },
  {
   "cell_type": "code",
   "execution_count": null,
   "metadata": {},
   "outputs": [],
   "source": [
    "# istft.py\n",
    "\n",
    "import matplotlib.pyplot as plt\n",
    "from matplotlib.colors import LogNorm\n",
    "from scipy import signal\n",
    "from scipy.io import wavfile\n",
    "import numpy as np\n",
    "from sklearn.decomposition import NMF\n",
    "import os\n",
    "\n",
    "nData = 141\n",
    "workingDir = \"/ffs/tmp/frsc/fado/audio_separation/\"\n",
    "\n",
    "\n",
    "\n",
    "W = np.zeros(shape=(nData, 2585, 100))\n",
    "H = np.zeros(shape=(nData, 100, 513))\n",
    "\n",
    "\n",
    "for i in range(nData):\n",
    "    print(\"loading W\")\n",
    "    W[i,:,:] = np.load(workingDir + 'NMF/' + 'W/' + 'GuitarNMF_W' + str(i) + '.npy')\n",
    "    print(\"loading H\")\n",
    "    H[i,:,:] = np.load(workingDir + 'NMF/' + 'H/' + 'GuitarNMF_H' + str(i) + '.npy')\n",
    "\n",
    "print(\"W:\" + str(W.shape) + \" - H:\" + str(H.shape))\n",
    "\n",
    "songn = 2;\n",
    "newSpectrogram = np.dot(W[songn - 1], H[songn - 1]).T\n",
    "\n",
    "\n",
    "print(\"newSpectrogram pre reshape:\" + str(newSpectrogram.shape))\n",
    "#newSpectrogram = np.reshape(newSpectrogram, spectrogramShape)\n",
    "print(\"newSpectrogram post reshape:\" + str(newSpectrogram.shape))\n",
    "\n",
    "\n",
    "print(\"writing wav\")\n",
    "#INVERSE FOURIER\n",
    "newTimes, newMusic = signal.istft(newSpectrogram, fs = sample_rate, nperseg=segmentSize, noverlap=(segmentSize/2))\n",
    "\n",
    "print(\"newMusic:\" + str(newMusic.shape))\n",
    "\n",
    "oLength = newMusic.size\n",
    "inverseMusic = np.int16(np.round(newMusic))\n",
    "\n",
    "wavfile.write(workingDir + \"/NewGuitar\" + str(songn) + \".wav\", sample_rate, inverseMusic)\n"
   ]
  }
 ],
 "metadata": {
  "kernelspec": {
   "display_name": "Python 3.4",
   "language": "python",
   "name": "python_3.4"
  },
  "language_info": {
   "codemirror_mode": {
    "name": "ipython",
    "version": 3
   },
   "file_extension": ".py",
   "mimetype": "text/x-python",
   "name": "python",
   "nbconvert_exporter": "python",
   "pygments_lexer": "ipython3",
   "version": "3.4.6"
  }
 },
 "nbformat": 4,
 "nbformat_minor": 2
}
